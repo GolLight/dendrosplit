{
 "cells": [
  {
   "cell_type": "markdown",
   "metadata": {},
   "source": [
    "# Figure 1: Overview of DendroSplit"
   ]
  },
  {
   "cell_type": "code",
   "execution_count": 1,
   "metadata": {
    "collapsed": false
   },
   "outputs": [],
   "source": [
    "import numpy as np\n",
    "import matplotlib.pyplot as plt\n",
    "import sys\n",
    "sys.path.insert(0, '../')\n",
    "from dendrosplit import split,merge,utils\n",
    "from dendrosplit_pipeline import *\n",
    "%matplotlib inline"
   ]
  },
  {
   "cell_type": "code",
   "execution_count": 2,
   "metadata": {
    "collapsed": false
   },
   "outputs": [
    {
     "name": "stdout",
     "output_type": "stream",
     "text": [
      "Kept 23895 features for having > 0 counts across all cells\n"
     ]
    }
   ],
   "source": [
    "dataset = 'Biase'\n",
    "X = np.loadtxt('../data/%s/%s_expr.txt'%(dataset,dataset)).T\n",
    "Y = np.loadtxt('../data/%s/%s_labels.txt'%(dataset,dataset),dtype=str,delimiter='RAAAWRRRR')\n",
    "genes = np.loadtxt('../data/%s/%s_features.txt'%(dataset,dataset),dtype=str)\n",
    "X,genes = split.filter_genes(X,genes,0) "
   ]
  },
  {
   "cell_type": "code",
   "execution_count": 3,
   "metadata": {
    "collapsed": false
   },
   "outputs": [
    {
     "data": {
      "image/png": "[encoded data removed]",
      "text/plain": [
       "<matplotlib.figure.Figure at 0x7fbb14fb6410>"
      ]
     },
     "metadata": {},
     "output_type": "display_data"
    }
   ],
   "source": [
    "plt.figure(figsize=(16,6))\n",
    "\n",
    "plt.subplot(1,2,1)\n",
    "plt.imshow(X[:,:40],cmap='gray',interpolation='none')\n",
    "plt.axis('off')\n",
    "\n",
    "plt.subplot(1,2,2)\n",
    "plt.imshow(np.log(1+X[:,:40]),interpolation='none',cmap='Blues')\n",
    "_ = plt.axis('off')"
   ]
  },
  {
   "cell_type": "code",
   "execution_count": 4,
   "metadata": {
    "collapsed": false
   },
   "outputs": [
    {
     "name": "stdout",
     "output_type": "stream",
     "text": [
      "Distance matrix computed in 1.643 s.\n"
     ]
    },
    {
     "data": {
      "image/png": "[encoded data removed]",
      "text/plain": [
       "<matplotlib.figure.Figure at 0x7fbb14fd8810>"
      ]
     },
     "metadata": {},
     "output_type": "display_data"
    }
   ],
   "source": [
    "from sklearn.metrics.pairwise import pairwise_distances\n",
    "D = generate_log_corr_D(X)\n",
    "plt.imshow(D,interpolation='none')\n",
    "_ = plt.axis('off')"
   ]
  },
  {
   "cell_type": "code",
   "execution_count": 5,
   "metadata": {
    "collapsed": false
   },
   "outputs": [
    {
     "name": "stderr",
     "output_type": "stream",
     "text": [
      "/home/jessez/anaconda2/lib/python2.7/site-packages/matplotlib/collections.py:590: FutureWarning: elementwise comparison failed; returning scalar instead, but in the future will perform elementwise comparison\n",
      "  if self._edgecolors == str('face'):\n"
     ]
    },
    {
     "data": {
      "image/png": "[encoded data removed]",
      "text/plain": [
       "<matplotlib.figure.Figure at 0x7fbb144b4c90>"
      ]
     },
     "metadata": {},
     "output_type": "display_data"
    }
   ],
   "source": [
    "from scipy.cluster.hierarchy import dendrogram, linkage, fcluster\n",
    "from scipy.spatial.distance import squareform\n",
    "Ds = squareform(D)\n",
    "Z = linkage(Ds,method='complete')\n",
    "\n",
    "plt.figure(figsize=(16,4))\n",
    "\n",
    "plt.subplot(1,3,1)\n",
    "_ = dendrogram(Z,color_threshold=0)\n",
    "plt.axis('off')\n",
    "\n",
    "plt.subplot(1,3,2)\n",
    "_ = dendrogram(Z,color_threshold=0.32)\n",
    "plt.axis('off')\n",
    "\n",
    "plt.subplot(1,3,3)\n",
    "_ = dendrogram(Z,color_threshold=0.45)\n",
    "_ = plt.axis('off')"
   ]
  },
  {
   "cell_type": "code",
   "execution_count": 6,
   "metadata": {
    "collapsed": false
   },
   "outputs": [
    {
     "data": {
      "image/png": "[encoded data removed]",
      "text/plain": [
       "<matplotlib.figure.Figure at 0x7fbb14d29b50>"
      ]
     },
     "metadata": {},
     "output_type": "display_data"
    }
   ],
   "source": [
    "import itertools\n",
    "labels = fcluster(Z,.32,criterion='distance')\n",
    "labels[labels == 2] = 1\n",
    "Nc = len(np.unique(labels))\n",
    "cache = {}\n",
    "Dc = np.zeros((Nc,Nc))\n",
    "# Compute distances for all clusters                                                                                \n",
    "for i,j in itertools.combinations(range(Nc),2):\n",
    "    cache,Dc[i,j] = merge.cdist_log_Welchs(X,D,i,j,split.str_labels_to_ints(labels),cache)\n",
    "    Dc[j,i] = Dc[i,j]\n",
    "    \n",
    "plt.imshow(Dc,interpolation='none')\n",
    "plt.axis('off')"
   ]
  },
  {
   "cell_type": "code",
   "execution_count": 7,
   "metadata": {
    "collapsed": false
   },
   "outputs": [
    {
     "name": "stdout",
     "output_type": "stream",
     "text": [
      "0 of 49 samples are singletons\n",
      "Singletons assigned (0.002 s)\n",
      "Dc generated (2.341 s)\n",
      "Before the merge: 6 clusters\n",
      "Merging labels 2 (N = 5) and 3 (N = 5) with distance 6.43\n",
      "Before the merge: 5 clusters\n",
      "Merging labels 2 (N = 5) and 3 (N = 5) with distance 6.88\n",
      "Before the merge: 4 clusters\n",
      "Merging labels 2 (N = 10) and 3 (N = 10) with distance 12.91\n",
      "Merging clusters took 4.388 s\n"
     ]
    }
   ],
   "source": [
    "# Merge cluster labels\n",
    "ym,mhistory = merge.dendromerge((D,X),labels,score_threshold=20,preprocessing='precomputed',\n",
    "                                verbose=True,outlier_threshold_percentile=100)"
   ]
  },
  {
   "cell_type": "code",
   "execution_count": 8,
   "metadata": {
    "collapsed": false,
    "scrolled": false
   },
   "outputs": [
    {
     "data": {
      "image/png": "[encoded data removed]",
      "text/plain": [
       "<matplotlib.figure.Figure at 0x7fbb14be9a50>"
      ]
     },
     "metadata": {},
     "output_type": "display_data"
    }
   ],
   "source": [
    "# valid split\n",
    "\n",
    "from scipy.stats import ttest_ind\n",
    "Xlog = np.log(1+X)\n",
    "t,p = ttest_ind(Xlog[Y == 'two_cell'],Xlog[Y == 'four_cell'])\n",
    "p[np.isnan(p)] = 0.5\n",
    "\n",
    "# Entries where X is nonzero for all cells\n",
    "plt.figure(figsize=(16,3))\n",
    "inds = np.where(np.sum(X == 0,0) == 0)[0]\n",
    "# for j,i in enumerate(np.sort(np.random.choice(inds,5,replace=False))):\n",
    "for j,i in enumerate([932, 2672, 3615, 5620, 13155, 14202]):\n",
    "    plt.subplot(1,6,j+1)\n",
    "    v1 = Xlog[Y == 'two_cell',i]\n",
    "    v2 = Xlog[Y == 'four_cell',i]\n",
    "    bins = np.histogram(np.hstack((v1,v2)), bins=20)[1]\n",
    "    data = np.vstack([v1, v2]).T\n",
    "    plt.hist(data,bins,label=['two_cell','four_cell'],\n",
    "             alpha=0.8,color=['r','c'],edgecolor='none')\n",
    "    plt.title('Gene %s\\np = %.1e\\n'%(i,p[i]))\n",
    "    plt.axis('off')"
   ]
  },
  {
   "cell_type": "code",
   "execution_count": 9,
   "metadata": {
    "collapsed": false,
    "scrolled": false
   },
   "outputs": [
    {
     "data": {
      "image/png": "[encoded data removed]",
      "text/plain": [
       "<matplotlib.figure.Figure at 0x7fbb147e7f10>"
      ]
     },
     "metadata": {},
     "output_type": "display_data"
    }
   ],
   "source": [
    "# poor split\n",
    "\n",
    "plt.figure(figsize=(16,3))\n",
    "inds = np.where(np.sum(X == 0,0) == 0)[0]\n",
    "for j,i in enumerate([381, 9807, 10399, 14692, 14810, 15497]):\n",
    "    plt.subplot(1,6,j+1)\n",
    "    v1 = Xlog[Y == 'two_cell',i]\n",
    "    v2 = Xlog[Y == 'four_cell',i]\n",
    "    bins = np.histogram(np.hstack((v1,v2)), bins=20)[1]\n",
    "    data = np.vstack([v1, v2]).T\n",
    "    plt.hist(data,bins,label=['two_cell','four_cell'],\n",
    "             alpha=0.8,color=['r','c'],edgecolor='none')\n",
    "    plt.title('Gene %s\\np = %.1e\\n'%(i,p[i]))\n",
    "    plt.axis('off')"
   ]
  }
 ],
 "metadata": {
  "kernelspec": {
   "display_name": "Python 2",
   "language": "python",
   "name": "python2"
  },
  "language_info": {
   "codemirror_mode": {
    "name": "ipython",
    "version": 2
   },
   "file_extension": ".py",
   "mimetype": "text/x-python",
   "name": "python",
   "nbconvert_exporter": "python",
   "pygments_lexer": "ipython2",
   "version": "2.7.12"
  }
 },
 "nbformat": 4,
 "nbformat_minor": 0
}
